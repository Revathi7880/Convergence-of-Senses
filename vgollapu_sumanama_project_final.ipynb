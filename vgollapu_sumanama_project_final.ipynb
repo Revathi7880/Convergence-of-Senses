{
 "cells": [
  {
   "cell_type": "code",
   "execution_count": 6,
   "id": "38f32a02",
   "metadata": {
    "colab": {
     "base_uri": "https://localhost:8080/"
    },
    "execution": {
     "iopub.execute_input": "2024-05-02T21:04:50.574563Z",
     "iopub.status.busy": "2024-05-02T21:04:50.574169Z",
     "iopub.status.idle": "2024-05-02T21:04:50.580719Z",
     "shell.execute_reply": "2024-05-02T21:04:50.579264Z",
     "shell.execute_reply.started": "2024-05-02T21:04:50.574530Z"
    },
    "id": "c10fc9b2",
    "outputId": "c8d9c002-1e6a-49a7-9f4b-89f0af39fcfc"
   },
   "outputs": [],
   "source": [
    "# !pip install wordcloud\n",
    "# !pip install moviepy\n",
    "# !pip install SpeechRecognition"
   ]
  },
  {
   "cell_type": "code",
   "execution_count": 2,
   "id": "0b4cb6a7",
   "metadata": {
    "execution": {
     "iopub.execute_input": "2024-05-02T21:04:50.586093Z",
     "iopub.status.busy": "2024-05-02T21:04:50.585713Z",
     "iopub.status.idle": "2024-05-02T21:05:01.785193Z",
     "shell.execute_reply": "2024-05-02T21:05:01.784288Z",
     "shell.execute_reply.started": "2024-05-02T21:04:50.586043Z"
    },
    "id": "009237ab"
   },
   "outputs": [],
   "source": [
    "import pandas as pd\n",
    "import numpy as np\n",
    "import torch\n",
    "import torch.nn as nn\n",
    "import torch.optim as optim\n",
    "from sklearn.model_selection import train_test_split\n",
    "from torch.utils.data import TensorDataset, DataLoader\n",
    "import matplotlib.pyplot as plt\n",
    "import re\n",
    "from torch.nn.utils.rnn import pad_sequence\n",
    "from torch.nn import Transformer\n",
    "import torch.nn.functional as F\n",
    "from transformers import AdamW\n",
    "from wordcloud import WordCloud\n",
    "import matplotlib.pyplot as plt\n",
    "from collections import Counter\n",
    "import seaborn as sns"
   ]
  },
  {
   "cell_type": "code",
   "execution_count": 3,
   "id": "0f3e1185",
   "metadata": {
    "colab": {
     "base_uri": "https://localhost:8080/"
    },
    "execution": {
     "iopub.execute_input": "2024-05-02T21:05:01.787777Z",
     "iopub.status.busy": "2024-05-02T21:05:01.787231Z",
     "iopub.status.idle": "2024-05-02T21:05:01.794213Z",
     "shell.execute_reply": "2024-05-02T21:05:01.792721Z",
     "shell.execute_reply.started": "2024-05-02T21:05:01.787746Z"
    },
    "id": "6d918fb7",
    "outputId": "128d7e70-607b-459a-9f42-15bd5ff61cc1"
   },
   "outputs": [
    {
     "name": "stdout",
     "output_type": "stream",
     "text": [
      "\n",
      "\n",
      "Device: cuda \n",
      "\n",
      "\n"
     ]
    }
   ],
   "source": [
    "device = torch.device(\"cuda\" if torch.cuda.is_available() else \"cpu\")\n",
    "print(\"\\n\\nDevice:\", device, \"\\n\\n\")"
   ]
  },
  {
   "cell_type": "code",
   "execution_count": 5,
   "id": "ac0f0fee",
   "metadata": {},
   "outputs": [
    {
     "name": "stdout",
     "output_type": "stream",
     "text": [
      "MoviePy - Writing audio in temp.wav\n"
     ]
    },
    {
     "name": "stderr",
     "output_type": "stream",
     "text": [
      "                                                                                                                       \r"
     ]
    },
    {
     "name": "stdout",
     "output_type": "stream",
     "text": [
      "MoviePy - Done.\n",
      "Transcription: San Antonio has an extremely wet tropical rainforest climate if he was nicknamed Captain Jack for his love of sailing\n"
     ]
    }
   ],
   "source": [
    "import moviepy.editor as mp\n",
    "import speech_recognition as sr\n",
    "file_path = r\"./common_voice_en_32392007.mp3\"\n",
    "\n",
    "audio_clip = mp.AudioFileClip(file_path)\n",
    "audio_clip.write_audiofile(\"temp.wav\")\n",
    "recognizer = sr.Recognizer()\n",
    "with sr.AudioFile(\"temp.wav\") as source:\n",
    "    audio_data = recognizer.record(source)\n",
    "    text = recognizer.recognize_google(audio_data)\n",
    "    print(\"Transcription:\", text)\n"
   ]
  },
  {
   "cell_type": "code",
   "execution_count": null,
   "id": "1dd4b2a4",
   "metadata": {},
   "outputs": [],
   "source": [
    "import moviepy.editor as mp\n",
    "import speech_recognition as sr\n",
    "file_path = r\"C:\\Users\\revat\\Desktop\\Spring 2024\\CSE676-Deep Learning\\Project\\common_voice_en_32392007.mp3\"\n",
    "\n",
    "audio_clip = mp.AudioFileClip(file_path)\n",
    "audio_clip.write_audiofile(\"temp.wav\")\n",
    "recognizer = sr.Recognizer()\n",
    "with sr.AudioFile(\"temp.wav\") as source:\n",
    "    audio_data = recognizer.record(source)\n",
    "    text = recognizer.recognize_google(audio_data)\n",
    "    print(\"Transcription:\", text)\n"
   ]
  },
  {
   "cell_type": "code",
   "execution_count": 4,
   "id": "4c8cd2d1",
   "metadata": {
    "execution": {
     "iopub.execute_input": "2024-05-02T21:05:01.795972Z",
     "iopub.status.busy": "2024-05-02T21:05:01.795641Z",
     "iopub.status.idle": "2024-05-02T21:05:02.336209Z",
     "shell.execute_reply": "2024-05-02T21:05:02.335058Z",
     "shell.execute_reply.started": "2024-05-02T21:05:01.795934Z"
    },
    "id": "c0d8b5c8"
   },
   "outputs": [],
   "source": [
    "eng_fr_df = pd.read_csv('/kaggle/input/language-translation-englishfrench/eng_-french.csv')"
   ]
  },
  {
   "cell_type": "code",
   "execution_count": 5,
   "id": "be4c8f15",
   "metadata": {
    "colab": {
     "base_uri": "https://localhost:8080/",
     "height": 423
    },
    "execution": {
     "iopub.execute_input": "2024-05-02T21:05:02.339169Z",
     "iopub.status.busy": "2024-05-02T21:05:02.338799Z",
     "iopub.status.idle": "2024-05-02T21:05:02.364086Z",
     "shell.execute_reply": "2024-05-02T21:05:02.362983Z",
     "shell.execute_reply.started": "2024-05-02T21:05:02.339140Z"
    },
    "id": "a8eb1168",
    "outputId": "3836ad38-a4df-4f87-aaa1-9eff1f528b29"
   },
   "outputs": [
    {
     "data": {
      "text/html": [
       "<div>\n",
       "<style scoped>\n",
       "    .dataframe tbody tr th:only-of-type {\n",
       "        vertical-align: middle;\n",
       "    }\n",
       "\n",
       "    .dataframe tbody tr th {\n",
       "        vertical-align: top;\n",
       "    }\n",
       "\n",
       "    .dataframe thead th {\n",
       "        text-align: right;\n",
       "    }\n",
       "</style>\n",
       "<table border=\"1\" class=\"dataframe\">\n",
       "  <thead>\n",
       "    <tr style=\"text-align: right;\">\n",
       "      <th></th>\n",
       "      <th>English words/sentences</th>\n",
       "      <th>French words/sentences</th>\n",
       "    </tr>\n",
       "  </thead>\n",
       "  <tbody>\n",
       "    <tr>\n",
       "      <th>0</th>\n",
       "      <td>Hi.</td>\n",
       "      <td>Salut!</td>\n",
       "    </tr>\n",
       "    <tr>\n",
       "      <th>1</th>\n",
       "      <td>Run!</td>\n",
       "      <td>Cours !</td>\n",
       "    </tr>\n",
       "    <tr>\n",
       "      <th>2</th>\n",
       "      <td>Run!</td>\n",
       "      <td>Courez !</td>\n",
       "    </tr>\n",
       "    <tr>\n",
       "      <th>3</th>\n",
       "      <td>Who?</td>\n",
       "      <td>Qui ?</td>\n",
       "    </tr>\n",
       "    <tr>\n",
       "      <th>4</th>\n",
       "      <td>Wow!</td>\n",
       "      <td>Ça alors !</td>\n",
       "    </tr>\n",
       "    <tr>\n",
       "      <th>...</th>\n",
       "      <td>...</td>\n",
       "      <td>...</td>\n",
       "    </tr>\n",
       "    <tr>\n",
       "      <th>175616</th>\n",
       "      <td>Top-down economics never works, said Obama. \"T...</td>\n",
       "      <td>« L'économie en partant du haut vers le bas, ç...</td>\n",
       "    </tr>\n",
       "    <tr>\n",
       "      <th>175617</th>\n",
       "      <td>A carbon footprint is the amount of carbon dio...</td>\n",
       "      <td>Une empreinte carbone est la somme de pollutio...</td>\n",
       "    </tr>\n",
       "    <tr>\n",
       "      <th>175618</th>\n",
       "      <td>Death is something that we're often discourage...</td>\n",
       "      <td>La mort est une chose qu'on nous décourage sou...</td>\n",
       "    </tr>\n",
       "    <tr>\n",
       "      <th>175619</th>\n",
       "      <td>Since there are usually multiple websites on a...</td>\n",
       "      <td>Puisqu'il y a de multiples sites web sur chaqu...</td>\n",
       "    </tr>\n",
       "    <tr>\n",
       "      <th>175620</th>\n",
       "      <td>If someone who doesn't know your background sa...</td>\n",
       "      <td>Si quelqu'un qui ne connaît pas vos antécédent...</td>\n",
       "    </tr>\n",
       "  </tbody>\n",
       "</table>\n",
       "<p>175621 rows × 2 columns</p>\n",
       "</div>"
      ],
      "text/plain": [
       "                                  English words/sentences  \\\n",
       "0                                                     Hi.   \n",
       "1                                                    Run!   \n",
       "2                                                    Run!   \n",
       "3                                                    Who?   \n",
       "4                                                    Wow!   \n",
       "...                                                   ...   \n",
       "175616  Top-down economics never works, said Obama. \"T...   \n",
       "175617  A carbon footprint is the amount of carbon dio...   \n",
       "175618  Death is something that we're often discourage...   \n",
       "175619  Since there are usually multiple websites on a...   \n",
       "175620  If someone who doesn't know your background sa...   \n",
       "\n",
       "                                   French words/sentences  \n",
       "0                                                  Salut!  \n",
       "1                                                 Cours !  \n",
       "2                                                Courez !  \n",
       "3                                                   Qui ?  \n",
       "4                                              Ça alors !  \n",
       "...                                                   ...  \n",
       "175616  « L'économie en partant du haut vers le bas, ç...  \n",
       "175617  Une empreinte carbone est la somme de pollutio...  \n",
       "175618  La mort est une chose qu'on nous décourage sou...  \n",
       "175619  Puisqu'il y a de multiples sites web sur chaqu...  \n",
       "175620  Si quelqu'un qui ne connaît pas vos antécédent...  \n",
       "\n",
       "[175621 rows x 2 columns]"
      ]
     },
     "execution_count": 5,
     "metadata": {},
     "output_type": "execute_result"
    }
   ],
   "source": [
    "eng_fr_df"
   ]
  },
  {
   "cell_type": "code",
   "execution_count": 6,
   "id": "e27f22d3",
   "metadata": {
    "colab": {
     "base_uri": "https://localhost:8080/",
     "height": 206
    },
    "execution": {
     "iopub.execute_input": "2024-05-02T21:05:02.365561Z",
     "iopub.status.busy": "2024-05-02T21:05:02.365216Z",
     "iopub.status.idle": "2024-05-02T21:05:02.376563Z",
     "shell.execute_reply": "2024-05-02T21:05:02.375432Z",
     "shell.execute_reply.started": "2024-05-02T21:05:02.365533Z"
    },
    "id": "d31ca91f",
    "outputId": "dd6cb43e-b588-4d28-afd5-bb8c2e96acf2"
   },
   "outputs": [
    {
     "data": {
      "text/html": [
       "<div>\n",
       "<style scoped>\n",
       "    .dataframe tbody tr th:only-of-type {\n",
       "        vertical-align: middle;\n",
       "    }\n",
       "\n",
       "    .dataframe tbody tr th {\n",
       "        vertical-align: top;\n",
       "    }\n",
       "\n",
       "    .dataframe thead th {\n",
       "        text-align: right;\n",
       "    }\n",
       "</style>\n",
       "<table border=\"1\" class=\"dataframe\">\n",
       "  <thead>\n",
       "    <tr style=\"text-align: right;\">\n",
       "      <th></th>\n",
       "      <th>English words/sentences</th>\n",
       "      <th>French words/sentences</th>\n",
       "    </tr>\n",
       "  </thead>\n",
       "  <tbody>\n",
       "    <tr>\n",
       "      <th>0</th>\n",
       "      <td>Hi.</td>\n",
       "      <td>Salut!</td>\n",
       "    </tr>\n",
       "    <tr>\n",
       "      <th>1</th>\n",
       "      <td>Run!</td>\n",
       "      <td>Cours !</td>\n",
       "    </tr>\n",
       "    <tr>\n",
       "      <th>2</th>\n",
       "      <td>Run!</td>\n",
       "      <td>Courez !</td>\n",
       "    </tr>\n",
       "    <tr>\n",
       "      <th>3</th>\n",
       "      <td>Who?</td>\n",
       "      <td>Qui ?</td>\n",
       "    </tr>\n",
       "    <tr>\n",
       "      <th>4</th>\n",
       "      <td>Wow!</td>\n",
       "      <td>Ça alors !</td>\n",
       "    </tr>\n",
       "  </tbody>\n",
       "</table>\n",
       "</div>"
      ],
      "text/plain": [
       "  English words/sentences French words/sentences\n",
       "0                     Hi.                 Salut!\n",
       "1                    Run!                Cours !\n",
       "2                    Run!               Courez !\n",
       "3                    Who?                  Qui ?\n",
       "4                    Wow!             Ça alors !"
      ]
     },
     "execution_count": 6,
     "metadata": {},
     "output_type": "execute_result"
    }
   ],
   "source": [
    "eng_fr_df.head()"
   ]
  },
  {
   "cell_type": "code",
   "execution_count": 7,
   "id": "6f99054d",
   "metadata": {
    "colab": {
     "base_uri": "https://localhost:8080/"
    },
    "execution": {
     "iopub.execute_input": "2024-05-02T21:05:02.378626Z",
     "iopub.status.busy": "2024-05-02T21:05:02.378170Z",
     "iopub.status.idle": "2024-05-02T21:05:02.386570Z",
     "shell.execute_reply": "2024-05-02T21:05:02.385473Z",
     "shell.execute_reply.started": "2024-05-02T21:05:02.378587Z"
    },
    "id": "8817d5c2",
    "outputId": "5d176e22-1727-4374-c93f-33fad09536a8"
   },
   "outputs": [
    {
     "data": {
      "text/plain": [
       "Index(['English words/sentences', 'French words/sentences'], dtype='object')"
      ]
     },
     "execution_count": 7,
     "metadata": {},
     "output_type": "execute_result"
    }
   ],
   "source": [
    "eng_fr_df.columns"
   ]
  },
  {
   "cell_type": "code",
   "execution_count": 8,
   "id": "a6b7c360",
   "metadata": {
    "colab": {
     "base_uri": "https://localhost:8080/"
    },
    "execution": {
     "iopub.execute_input": "2024-05-02T21:05:02.388251Z",
     "iopub.status.busy": "2024-05-02T21:05:02.387926Z",
     "iopub.status.idle": "2024-05-02T21:05:02.398884Z",
     "shell.execute_reply": "2024-05-02T21:05:02.397684Z",
     "shell.execute_reply.started": "2024-05-02T21:05:02.388215Z"
    },
    "id": "d5e0ad86",
    "outputId": "7bc7e10b-e973-42b2-f0e3-1c357d6747bc"
   },
   "outputs": [
    {
     "data": {
      "text/plain": [
       "English words/sentences    object\n",
       "French words/sentences     object\n",
       "dtype: object"
      ]
     },
     "execution_count": 8,
     "metadata": {},
     "output_type": "execute_result"
    }
   ],
   "source": [
    "eng_fr_df.dtypes"
   ]
  },
  {
   "cell_type": "code",
   "execution_count": 9,
   "id": "3ba33c2c",
   "metadata": {
    "colab": {
     "base_uri": "https://localhost:8080/"
    },
    "execution": {
     "iopub.execute_input": "2024-05-02T21:05:02.401727Z",
     "iopub.status.busy": "2024-05-02T21:05:02.400674Z",
     "iopub.status.idle": "2024-05-02T21:05:02.452110Z",
     "shell.execute_reply": "2024-05-02T21:05:02.450719Z",
     "shell.execute_reply.started": "2024-05-02T21:05:02.401682Z"
    },
    "id": "97c59ccc",
    "outputId": "1717de8c-436e-4a4b-e6d3-713eedb74809"
   },
   "outputs": [
    {
     "data": {
      "text/plain": [
       "English words/sentences    0\n",
       "French words/sentences     0\n",
       "dtype: int64"
      ]
     },
     "execution_count": 9,
     "metadata": {},
     "output_type": "execute_result"
    }
   ],
   "source": [
    "eng_fr_df.isnull().sum()"
   ]
  },
  {
   "cell_type": "code",
   "execution_count": 10,
   "id": "79c7afa9",
   "metadata": {
    "colab": {
     "base_uri": "https://localhost:8080/",
     "height": 206
    },
    "execution": {
     "iopub.execute_input": "2024-05-02T21:05:02.454008Z",
     "iopub.status.busy": "2024-05-02T21:05:02.453568Z",
     "iopub.status.idle": "2024-05-02T21:05:02.661381Z",
     "shell.execute_reply": "2024-05-02T21:05:02.660152Z",
     "shell.execute_reply.started": "2024-05-02T21:05:02.453978Z"
    },
    "id": "15bcc0a4",
    "outputId": "87fd9858-fa1e-4964-902a-3d487d625140"
   },
   "outputs": [
    {
     "data": {
      "text/html": [
       "<div>\n",
       "<style scoped>\n",
       "    .dataframe tbody tr th:only-of-type {\n",
       "        vertical-align: middle;\n",
       "    }\n",
       "\n",
       "    .dataframe tbody tr th {\n",
       "        vertical-align: top;\n",
       "    }\n",
       "\n",
       "    .dataframe thead th {\n",
       "        text-align: right;\n",
       "    }\n",
       "</style>\n",
       "<table border=\"1\" class=\"dataframe\">\n",
       "  <thead>\n",
       "    <tr style=\"text-align: right;\">\n",
       "      <th></th>\n",
       "      <th>English</th>\n",
       "      <th>French</th>\n",
       "    </tr>\n",
       "  </thead>\n",
       "  <tbody>\n",
       "    <tr>\n",
       "      <th>0</th>\n",
       "      <td>hi.</td>\n",
       "      <td>salut!</td>\n",
       "    </tr>\n",
       "    <tr>\n",
       "      <th>1</th>\n",
       "      <td>run!</td>\n",
       "      <td>cours !</td>\n",
       "    </tr>\n",
       "    <tr>\n",
       "      <th>2</th>\n",
       "      <td>run!</td>\n",
       "      <td>courez !</td>\n",
       "    </tr>\n",
       "    <tr>\n",
       "      <th>3</th>\n",
       "      <td>who?</td>\n",
       "      <td>qui ?</td>\n",
       "    </tr>\n",
       "    <tr>\n",
       "      <th>4</th>\n",
       "      <td>wow!</td>\n",
       "      <td>ça alors !</td>\n",
       "    </tr>\n",
       "  </tbody>\n",
       "</table>\n",
       "</div>"
      ],
      "text/plain": [
       "  English      French\n",
       "0     hi.      salut!\n",
       "1    run!     cours !\n",
       "2    run!    courez !\n",
       "3    who?       qui ?\n",
       "4    wow!  ça alors !"
      ]
     },
     "execution_count": 10,
     "metadata": {},
     "output_type": "execute_result"
    }
   ],
   "source": [
    "eng_fr_df['English'] = eng_fr_df['English words/sentences'].str.lower()\n",
    "eng_fr_df['French'] = eng_fr_df['French words/sentences'].str.lower()\n",
    "eng_fr_df.drop(columns=['English words/sentences'], inplace=True)\n",
    "eng_fr_df.drop(columns=['French words/sentences'], inplace=True)\n",
    "eng_fr_df.head()"
   ]
  },
  {
   "cell_type": "code",
   "execution_count": 11,
   "id": "6e1e205e",
   "metadata": {
    "execution": {
     "iopub.execute_input": "2024-05-02T21:05:02.666025Z",
     "iopub.status.busy": "2024-05-02T21:05:02.665695Z",
     "iopub.status.idle": "2024-05-02T21:05:02.671719Z",
     "shell.execute_reply": "2024-05-02T21:05:02.670491Z",
     "shell.execute_reply.started": "2024-05-02T21:05:02.665998Z"
    },
    "id": "d1aac470"
   },
   "outputs": [],
   "source": [
    "def remove_special_chars(text):\n",
    "    text = re.sub(r'http\\S+', '', str(text))\n",
    "    text = re.sub(r'[^a-zA-Z0-9\\s]', '', str(text))\n",
    "    text = text.lower()\n",
    "    return text"
   ]
  },
  {
   "cell_type": "code",
   "execution_count": 12,
   "id": "f39466c2",
   "metadata": {
    "execution": {
     "iopub.execute_input": "2024-05-02T21:05:02.673754Z",
     "iopub.status.busy": "2024-05-02T21:05:02.673297Z",
     "iopub.status.idle": "2024-05-02T21:05:05.436478Z",
     "shell.execute_reply": "2024-05-02T21:05:05.435322Z",
     "shell.execute_reply.started": "2024-05-02T21:05:02.673715Z"
    },
    "id": "32f8bf20"
   },
   "outputs": [],
   "source": [
    "eng_fr_df['English'] = eng_fr_df['English'].apply(remove_special_chars)\n",
    "eng_fr_df['French'] = eng_fr_df['French'].apply(lambda x: re.sub(r'\\d','',x))\n",
    "eng_fr_df['French'] = eng_fr_df['French'].apply(lambda x: re.sub(r'\\s+',' ',x))\n",
    "eng_fr_df['French'] = eng_fr_df['French'].apply(lambda x: re.sub(r\"[-()\\\"#/@;:<>{}`«+=~|.!?,।]\", \"\", x))"
   ]
  },
  {
   "cell_type": "code",
   "execution_count": 13,
   "id": "3564f94e",
   "metadata": {
    "colab": {
     "base_uri": "https://localhost:8080/",
     "height": 423
    },
    "execution": {
     "iopub.execute_input": "2024-05-02T21:05:05.438028Z",
     "iopub.status.busy": "2024-05-02T21:05:05.437702Z",
     "iopub.status.idle": "2024-05-02T21:05:05.451778Z",
     "shell.execute_reply": "2024-05-02T21:05:05.450498Z",
     "shell.execute_reply.started": "2024-05-02T21:05:05.438001Z"
    },
    "id": "e028a9af",
    "outputId": "c29b8d01-70d2-4cce-eff0-1760834eb0d4"
   },
   "outputs": [
    {
     "data": {
      "text/html": [
       "<div>\n",
       "<style scoped>\n",
       "    .dataframe tbody tr th:only-of-type {\n",
       "        vertical-align: middle;\n",
       "    }\n",
       "\n",
       "    .dataframe tbody tr th {\n",
       "        vertical-align: top;\n",
       "    }\n",
       "\n",
       "    .dataframe thead th {\n",
       "        text-align: right;\n",
       "    }\n",
       "</style>\n",
       "<table border=\"1\" class=\"dataframe\">\n",
       "  <thead>\n",
       "    <tr style=\"text-align: right;\">\n",
       "      <th></th>\n",
       "      <th>English</th>\n",
       "      <th>French</th>\n",
       "    </tr>\n",
       "  </thead>\n",
       "  <tbody>\n",
       "    <tr>\n",
       "      <th>0</th>\n",
       "      <td>hi</td>\n",
       "      <td>salut</td>\n",
       "    </tr>\n",
       "    <tr>\n",
       "      <th>1</th>\n",
       "      <td>run</td>\n",
       "      <td>cours</td>\n",
       "    </tr>\n",
       "    <tr>\n",
       "      <th>2</th>\n",
       "      <td>run</td>\n",
       "      <td>courez</td>\n",
       "    </tr>\n",
       "    <tr>\n",
       "      <th>3</th>\n",
       "      <td>who</td>\n",
       "      <td>qui</td>\n",
       "    </tr>\n",
       "    <tr>\n",
       "      <th>4</th>\n",
       "      <td>wow</td>\n",
       "      <td>ça alors</td>\n",
       "    </tr>\n",
       "    <tr>\n",
       "      <th>...</th>\n",
       "      <td>...</td>\n",
       "      <td>...</td>\n",
       "    </tr>\n",
       "    <tr>\n",
       "      <th>175616</th>\n",
       "      <td>topdown economics never works said obama the c...</td>\n",
       "      <td>l'économie en partant du haut vers le bas ça ...</td>\n",
       "    </tr>\n",
       "    <tr>\n",
       "      <th>175617</th>\n",
       "      <td>a carbon footprint is the amount of carbon dio...</td>\n",
       "      <td>une empreinte carbone est la somme de pollutio...</td>\n",
       "    </tr>\n",
       "    <tr>\n",
       "      <th>175618</th>\n",
       "      <td>death is something that were often discouraged...</td>\n",
       "      <td>la mort est une chose qu'on nous décourage sou...</td>\n",
       "    </tr>\n",
       "    <tr>\n",
       "      <th>175619</th>\n",
       "      <td>since there are usually multiple websites on a...</td>\n",
       "      <td>puisqu'il y a de multiples sites web sur chaqu...</td>\n",
       "    </tr>\n",
       "    <tr>\n",
       "      <th>175620</th>\n",
       "      <td>if someone who doesnt know your background say...</td>\n",
       "      <td>si quelqu'un qui ne connaît pas vos antécédent...</td>\n",
       "    </tr>\n",
       "  </tbody>\n",
       "</table>\n",
       "<p>175621 rows × 2 columns</p>\n",
       "</div>"
      ],
      "text/plain": [
       "                                                  English  \\\n",
       "0                                                      hi   \n",
       "1                                                     run   \n",
       "2                                                     run   \n",
       "3                                                     who   \n",
       "4                                                     wow   \n",
       "...                                                   ...   \n",
       "175616  topdown economics never works said obama the c...   \n",
       "175617  a carbon footprint is the amount of carbon dio...   \n",
       "175618  death is something that were often discouraged...   \n",
       "175619  since there are usually multiple websites on a...   \n",
       "175620  if someone who doesnt know your background say...   \n",
       "\n",
       "                                                   French  \n",
       "0                                                   salut  \n",
       "1                                                  cours   \n",
       "2                                                 courez   \n",
       "3                                                    qui   \n",
       "4                                               ça alors   \n",
       "...                                                   ...  \n",
       "175616   l'économie en partant du haut vers le bas ça ...  \n",
       "175617  une empreinte carbone est la somme de pollutio...  \n",
       "175618  la mort est une chose qu'on nous décourage sou...  \n",
       "175619  puisqu'il y a de multiples sites web sur chaqu...  \n",
       "175620  si quelqu'un qui ne connaît pas vos antécédent...  \n",
       "\n",
       "[175621 rows x 2 columns]"
      ]
     },
     "execution_count": 13,
     "metadata": {},
     "output_type": "execute_result"
    }
   ],
   "source": [
    "eng_fr_df"
   ]
  },
  {
   "cell_type": "code",
   "execution_count": null,
   "id": "3bb24ead",
   "metadata": {
    "colab": {
     "base_uri": "https://localhost:8080/",
     "height": 530
    },
    "execution": {
     "iopub.execute_input": "2024-05-02T21:05:05.453995Z",
     "iopub.status.busy": "2024-05-02T21:05:05.453640Z",
     "iopub.status.idle": "2024-05-02T21:05:10.598519Z"
    },
    "id": "b2008889",
    "outputId": "f20a70f8-2ab8-46f2-f0f8-39099906356b"
   },
   "outputs": [],
   "source": [
    "plt.figure(figsize=(12,8))\n",
    "wc = WordCloud(width=600,height=300).generate(' '.join(eng_fr_df['English']))\n",
    "plt.imshow(wc)\n",
    "plt.show()"
   ]
  },
  {
   "cell_type": "code",
   "execution_count": null,
   "id": "24eb469b",
   "metadata": {
    "colab": {
     "base_uri": "https://localhost:8080/",
     "height": 530
    },
    "execution": {
     "iopub.execute_input": "2024-05-02T21:05:10.600385Z",
     "iopub.status.idle": "2024-05-02T21:05:19.933657Z"
    },
    "id": "f88051b9",
    "outputId": "3b50a9c2-9e67-4109-c2e6-e293446b6525"
   },
   "outputs": [],
   "source": [
    "plt.figure(figsize=(12,8))\n",
    "wc = WordCloud(width=600,height=300).generate(' '.join(eng_fr_df['French']))\n",
    "plt.imshow(wc)\n",
    "plt.show()"
   ]
  },
  {
   "cell_type": "code",
   "execution_count": 16,
   "id": "7d58ebdb",
   "metadata": {
    "colab": {
     "base_uri": "https://localhost:8080/"
    },
    "execution": {
     "iopub.execute_input": "2024-05-02T21:05:19.935386Z",
     "iopub.status.busy": "2024-05-02T21:05:19.934984Z",
     "iopub.status.idle": "2024-05-02T21:05:20.417099Z",
     "shell.execute_reply": "2024-05-02T21:05:20.415893Z",
     "shell.execute_reply.started": "2024-05-02T21:05:19.935351Z"
    },
    "id": "02fde8eb",
    "outputId": "bad2584d-2fbb-4eed-e3a0-6af879b854f9"
   },
   "outputs": [
    {
     "name": "stdout",
     "output_type": "stream",
     "text": [
      "Total number of English words: 1082094\n",
      "Number of unique English words: 14637\n",
      "Top 10 most common English words: ('i', 'you', 'to', 'the', 'a', 'is', 'tom', 'that', 'he', 'do')\n"
     ]
    }
   ],
   "source": [
    "Eng_words = Counter([word for sentence in eng_fr_df['English'] for word in sentence.split()])\n",
    "total_english_words = sum(len(sentence.split()) for sentence in eng_fr_df['English'])\n",
    "distinct_english_words = len(Eng_words)\n",
    "most_common_english_words = list(zip(*Eng_words.most_common(10)))[0]\n",
    "\n",
    "print(\"Total number of English words:\", total_english_words)\n",
    "print(\"Number of unique English words:\", distinct_english_words)\n",
    "print(\"Top 10 most common English words:\", most_common_english_words)"
   ]
  },
  {
   "cell_type": "code",
   "execution_count": 17,
   "id": "70472eba",
   "metadata": {
    "colab": {
     "base_uri": "https://localhost:8080/",
     "height": 668
    },
    "execution": {
     "iopub.execute_input": "2024-05-02T21:05:20.419297Z",
     "iopub.status.busy": "2024-05-02T21:05:20.418859Z",
     "iopub.status.idle": "2024-05-02T21:05:22.721704Z",
     "shell.execute_reply": "2024-05-02T21:05:22.720666Z",
     "shell.execute_reply.started": "2024-05-02T21:05:20.419259Z"
    },
    "id": "4ad26878",
    "outputId": "05fe36fc-989c-4b62-8a97-cb72899a9722"
   },
   "outputs": [
    {
     "data": {
      "text/plain": [
       "Text(0.5, 1.0, 'Top 10 Most Common English Words')"
      ]
     },
     "execution_count": 17,
     "metadata": {},
     "output_type": "execute_result"
    },
    {
     "data": {
      "image/png": "[encoded data removed]",
      "text/plain": [
       "<Figure size 1200x600 with 1 Axes>"
      ]
     },
     "metadata": {},
     "output_type": "display_data"
    }
   ],
   "source": [
    "plt.figure(figsize=(12, 6))\n",
    "plt.subplot(1, 2, 1)\n",
    "eng_word_freq = eng_fr_df['English'].str.split(expand=True).stack().value_counts().sort_values(ascending=False).head(10)\n",
    "sns.barplot(y=eng_word_freq.values, x=eng_word_freq.index, palette='viridis')\n",
    "plt.title('Top 10 Most Common English Words')\n"
   ]
  },
  {
   "cell_type": "code",
   "execution_count": 18,
   "id": "ed10f49f",
   "metadata": {
    "colab": {
     "base_uri": "https://localhost:8080/"
    },
    "execution": {
     "iopub.execute_input": "2024-05-02T21:05:22.723325Z",
     "iopub.status.busy": "2024-05-02T21:05:22.723032Z",
     "iopub.status.idle": "2024-05-02T21:05:23.290051Z",
     "shell.execute_reply": "2024-05-02T21:05:23.288912Z",
     "shell.execute_reply.started": "2024-05-02T21:05:22.723300Z"
    },
    "id": "24b37810",
    "outputId": "fd80f928-8e0e-4498-fcf2-ca5437bc4bed"
   },
   "outputs": [
    {
     "name": "stdout",
     "output_type": "stream",
     "text": [
      "Total number of French words: 1082094\n",
      "Number of unique French words: 14637\n",
      "Top 10 most common French words: ('je', 'de', 'pas', 'que', 'à', 'ne', 'le', 'la', 'vous', 'il')\n"
     ]
    }
   ],
   "source": [
    "Fr_words = Counter([word for sentence in eng_fr_df['French'] for word in sentence.split()])\n",
    "total_French_words = sum(len(sentence.split()) for sentence in eng_fr_df['French'])\n",
    "distinct_French_words = len(Eng_words)\n",
    "most_common_French_words = list(zip(*Fr_words.most_common(10)))[0]\n",
    "\n",
    "print(\"Total number of French words:\", total_english_words)\n",
    "print(\"Number of unique French words:\", distinct_French_words)\n",
    "print(\"Top 10 most common French words:\", most_common_French_words)"
   ]
  },
  {
   "cell_type": "code",
   "execution_count": 19,
   "id": "ba3f0c3e",
   "metadata": {
    "colab": {
     "base_uri": "https://localhost:8080/",
     "height": 668
    },
    "execution": {
     "iopub.execute_input": "2024-05-02T21:05:23.291667Z",
     "iopub.status.busy": "2024-05-02T21:05:23.291320Z",
     "iopub.status.idle": "2024-05-02T21:05:25.599478Z",
     "shell.execute_reply": "2024-05-02T21:05:25.598393Z",
     "shell.execute_reply.started": "2024-05-02T21:05:23.291639Z"
    },
    "id": "dafe35bc",
    "outputId": "c6134021-b5c7-43a3-eafc-3c022c40d83f"
   },
   "outputs": [
    {
     "data": {
      "text/plain": [
       "Text(0.5, 1.0, 'Top 10 Most Common French Words')"
      ]
     },
     "execution_count": 19,
     "metadata": {},
     "output_type": "execute_result"
    },
    {
     "data": {
      "image/png": "[encoded data removed]",
      "text/plain": [
       "<Figure size 1200x600 with 1 Axes>"
      ]
     },
     "metadata": {},
     "output_type": "display_data"
    }
   ],
   "source": [
    "plt.figure(figsize=(12, 6))\n",
    "plt.subplot(1, 2, 1)\n",
    "fr_word_freq = eng_fr_df['French'].str.split(expand=True).stack().value_counts().sort_values(ascending=False).head(10)\n",
    "sns.barplot(y=fr_word_freq.values, x=fr_word_freq.index, palette='viridis')\n",
    "plt.title('Top 10 Most Common French Words')\n"
   ]
  },
  {
   "cell_type": "code",
   "execution_count": 20,
   "id": "36f88b7b",
   "metadata": {
    "colab": {
     "base_uri": "https://localhost:8080/",
     "height": 581
    },
    "execution": {
     "iopub.execute_input": "2024-05-02T21:05:25.601559Z",
     "iopub.status.busy": "2024-05-02T21:05:25.601104Z",
     "iopub.status.idle": "2024-05-02T21:05:27.533545Z",
     "shell.execute_reply": "2024-05-02T21:05:27.532439Z",
     "shell.execute_reply.started": "2024-05-02T21:05:25.601519Z"
    },
    "id": "4a625a63",
    "outputId": "1b3d227e-b124-4299-c5d8-4c81f8dc98b4"
   },
   "outputs": [
    {
     "name": "stderr",
     "output_type": "stream",
     "text": [
      "/opt/conda/lib/python3.10/site-packages/seaborn/_oldcore.py:1119: FutureWarning: use_inf_as_na option is deprecated and will be removed in a future version. Convert inf values to NaN before operating instead.\n",
      "  with pd.option_context('mode.use_inf_as_na', True):\n"
     ]
    },
    {
     "data": {
      "text/plain": [
       "Text(0.5, 1.0, 'Histogram of English Sentence Length')"
      ]
     },
     "execution_count": 20,
     "metadata": {},
     "output_type": "execute_result"
    },
    {
     "data": {
      "image/png": "[encoded data removed]",
      "text/plain": [
       "<Figure size 1200x600 with 1 Axes>"
      ]
     },
     "metadata": {},
     "output_type": "display_data"
    }
   ],
   "source": [
    "plt.figure(figsize=(12, 6))\n",
    "plt.subplot(1, 2, 1)\n",
    "sns.histplot(eng_fr_df['English'].str.split().apply(len), bins=10, kde=True, color='skyblue')\n",
    "plt.title('Histogram of English Sentence Length')"
   ]
  },
  {
   "cell_type": "code",
   "execution_count": 21,
   "id": "9ab8a795",
   "metadata": {
    "colab": {
     "base_uri": "https://localhost:8080/",
     "height": 472
    },
    "execution": {
     "iopub.execute_input": "2024-05-02T21:05:27.535225Z",
     "iopub.status.busy": "2024-05-02T21:05:27.534920Z",
     "iopub.status.idle": "2024-05-02T21:05:29.531521Z",
     "shell.execute_reply": "2024-05-02T21:05:29.530405Z",
     "shell.execute_reply.started": "2024-05-02T21:05:27.535199Z"
    },
    "id": "ec22fd40",
    "outputId": "e5271da5-4917-449d-ffd6-d56f586d0f13"
   },
   "outputs": [
    {
     "name": "stderr",
     "output_type": "stream",
     "text": [
      "/opt/conda/lib/python3.10/site-packages/seaborn/_oldcore.py:1119: FutureWarning: use_inf_as_na option is deprecated and will be removed in a future version. Convert inf values to NaN before operating instead.\n",
      "  with pd.option_context('mode.use_inf_as_na', True):\n"
     ]
    },
    {
     "data": {
      "image/png": "[encoded data removed]",
      "text/plain": [
       "<Figure size 640x480 with 1 Axes>"
      ]
     },
     "metadata": {},
     "output_type": "display_data"
    }
   ],
   "source": [
    "plt.subplot(1, 2, 2)\n",
    "sns.histplot(eng_fr_df['French'].str.split().apply(len), bins=10, kde=True, color='skyblue')\n",
    "plt.title('Histogram of French Sentence Length')\n",
    "plt.show()"
   ]
  },
  {
   "cell_type": "code",
   "execution_count": 22,
   "id": "dccc384d",
   "metadata": {
    "execution": {
     "iopub.execute_input": "2024-05-02T21:05:29.533072Z",
     "iopub.status.busy": "2024-05-02T21:05:29.532751Z",
     "iopub.status.idle": "2024-05-02T21:05:30.360265Z",
     "shell.execute_reply": "2024-05-02T21:05:30.359355Z",
     "shell.execute_reply.started": "2024-05-02T21:05:29.533044Z"
    },
    "id": "e1c9e5cf"
   },
   "outputs": [],
   "source": [
    "eng_vocab = {}\n",
    "eng_idx = 1\n",
    "english_tokens = []\n",
    "max_len_eng_sentence = 0\n",
    "for sentence in eng_fr_df['English']:\n",
    "    tokens = sentence.split()\n",
    "    len_tokens = len(tokens)\n",
    "    max_len_eng_sentence = max(max_len_eng_sentence, len_tokens)\n",
    "    for token in tokens:\n",
    "        if token not in eng_vocab:\n",
    "            eng_vocab[token] = eng_idx\n",
    "            eng_idx += 1\n",
    "    english_tokens.append(tokens)"
   ]
  },
  {
   "cell_type": "code",
   "execution_count": 23,
   "id": "c3cdb834",
   "metadata": {
    "execution": {
     "iopub.execute_input": "2024-05-02T21:05:30.361962Z",
     "iopub.status.busy": "2024-05-02T21:05:30.361568Z",
     "iopub.status.idle": "2024-05-02T21:05:31.376148Z",
     "shell.execute_reply": "2024-05-02T21:05:31.375215Z",
     "shell.execute_reply.started": "2024-05-02T21:05:30.361927Z"
    },
    "id": "49bfc33b"
   },
   "outputs": [],
   "source": [
    "fr_vocab = {}\n",
    "fr_idx = 1\n",
    "french_tokens = []\n",
    "max_len_fr_sentence = 0\n",
    "for sentence in eng_fr_df['French']:\n",
    "    tokens = sentence.split()\n",
    "    len_tokens = len(tokens)\n",
    "    max_len_fr_sentence = max(max_len_fr_sentence, len_tokens)\n",
    "    for token in tokens:\n",
    "        if token not in fr_vocab:\n",
    "            fr_vocab[token] = fr_idx\n",
    "            fr_idx += 1\n",
    "    french_tokens.append(tokens)"
   ]
  },
  {
   "cell_type": "code",
   "execution_count": 24,
   "id": "b89c0411",
   "metadata": {
    "execution": {
     "iopub.execute_input": "2024-05-02T21:05:31.378057Z",
     "iopub.status.busy": "2024-05-02T21:05:31.377655Z",
     "iopub.status.idle": "2024-05-02T21:05:31.385569Z",
     "shell.execute_reply": "2024-05-02T21:05:31.384470Z",
     "shell.execute_reply.started": "2024-05-02T21:05:31.378018Z"
    },
    "id": "10ad180b"
   },
   "outputs": [
    {
     "data": {
      "text/plain": [
       "55"
      ]
     },
     "execution_count": 24,
     "metadata": {},
     "output_type": "execute_result"
    }
   ],
   "source": [
    "max_len_sentence = max(max_len_eng_sentence, max_len_fr_sentence)\n",
    "max_len_sentence"
   ]
  },
  {
   "cell_type": "code",
   "execution_count": 25,
   "id": "0b41def0",
   "metadata": {
    "colab": {
     "base_uri": "https://localhost:8080/"
    },
    "execution": {
     "iopub.execute_input": "2024-05-02T21:05:31.387254Z",
     "iopub.status.busy": "2024-05-02T21:05:31.386916Z",
     "iopub.status.idle": "2024-05-02T21:05:32.436014Z",
     "shell.execute_reply": "2024-05-02T21:05:32.434874Z",
     "shell.execute_reply.started": "2024-05-02T21:05:31.387215Z"
    },
    "id": "cb05d0a5",
    "outputId": "be3a4d9f-c738-401a-80e4-b93509f4cb3d"
   },
   "outputs": [
    {
     "name": "stdout",
     "output_type": "stream",
     "text": [
      "[2, 0, 0, 0, 0, 0, 0, 0, 0, 0, 0, 0, 0, 0, 0, 0, 0, 0, 0, 0, 0, 0, 0, 0, 0, 0, 0, 0, 0, 0, 0, 0, 0, 0, 0, 0, 0, 0, 0, 0, 0, 0, 0, 0, 0, 0, 0, 0, 0, 0, 0, 0, 0, 0, 0]\n"
     ]
    }
   ],
   "source": [
    "eng_data = []\n",
    "for tokens in english_tokens:\n",
    "    eng_idx = [eng_vocab[token] for token in tokens]\n",
    "    eng_idx = eng_idx + [0] * (max_len_sentence - len(eng_idx))\n",
    "    eng_data.append(eng_idx)\n",
    "print(eng_data[2])"
   ]
  },
  {
   "cell_type": "code",
   "execution_count": 26,
   "id": "1758bba5",
   "metadata": {
    "colab": {
     "base_uri": "https://localhost:8080/"
    },
    "execution": {
     "iopub.execute_input": "2024-05-02T21:05:32.437865Z",
     "iopub.status.busy": "2024-05-02T21:05:32.437469Z",
     "iopub.status.idle": "2024-05-02T21:05:33.070018Z",
     "shell.execute_reply": "2024-05-02T21:05:33.068806Z",
     "shell.execute_reply.started": "2024-05-02T21:05:32.437836Z"
    },
    "id": "684c1624",
    "outputId": "57374ecd-2228-4672-a2cc-eba8dcabbf5a"
   },
   "outputs": [
    {
     "name": "stdout",
     "output_type": "stream",
     "text": [
      "[3, 0, 0, 0, 0, 0, 0, 0, 0, 0, 0, 0, 0, 0, 0, 0, 0, 0, 0, 0, 0, 0, 0, 0, 0, 0, 0, 0, 0, 0, 0, 0, 0, 0, 0, 0, 0, 0, 0, 0, 0, 0, 0, 0, 0, 0, 0, 0, 0, 0, 0, 0, 0, 0, 0]\n"
     ]
    }
   ],
   "source": [
    "fr_data = []\n",
    "i = 0\n",
    "for tokens in french_tokens:\n",
    "    fr_idx = [fr_vocab[token] for token in tokens]\n",
    "    fr_idx = fr_idx + [0] * (max_len_sentence - len(tokens))\n",
    "    fr_data.append(fr_idx)\n",
    "\n",
    "print(fr_data[2])"
   ]
  },
  {
   "cell_type": "code",
   "execution_count": 27,
   "id": "615213e1",
   "metadata": {
    "execution": {
     "iopub.execute_input": "2024-05-02T21:05:33.072304Z",
     "iopub.status.busy": "2024-05-02T21:05:33.071829Z",
     "iopub.status.idle": "2024-05-02T21:05:41.096968Z",
     "shell.execute_reply": "2024-05-02T21:05:41.095799Z",
     "shell.execute_reply.started": "2024-05-02T21:05:33.072243Z"
    },
    "id": "40e72a17"
   },
   "outputs": [],
   "source": [
    "X_train, X_test, y_train, y_test = train_test_split(eng_data, fr_data, test_size=0.1, random_state=42)\n",
    "X_train, X_val, y_train, y_val = train_test_split(X_train, y_train, test_size=0.1, random_state=42)\n",
    "\n",
    "X_train_tensors = torch.tensor([tokens for tokens in X_train])\n",
    "y_train_tensors = torch.tensor([tokens for tokens in y_train])\n",
    "X_val_tensors = torch.tensor([tokens for tokens in X_val])\n",
    "y_val_tensors = torch.tensor([tokens for tokens in y_val])\n",
    "X_test_tensors = torch.tensor([tokens for tokens in X_test])\n",
    "y_test_tensors = torch.tensor([tokens for tokens in y_test])\n",
    "\n",
    "train_dataset = TensorDataset(X_train_tensors, y_train_tensors)\n",
    "val_dataset = TensorDataset(X_val_tensors, y_val_tensors)\n",
    "test_dataset = TensorDataset(X_test_tensors, y_test_tensors)\n",
    "\n",
    "train_loader = DataLoader(train_dataset, batch_size=32, shuffle=True)\n",
    "val_loader = DataLoader(val_dataset, batch_size=32, shuffle=False)\n",
    "test_loader = DataLoader(test_dataset, batch_size=32, shuffle=False)\n"
   ]
  },
  {
   "cell_type": "markdown",
   "id": "17d763d3",
   "metadata": {},
   "source": [
    "## Model 1 "
   ]
  },
  {
   "cell_type": "code",
   "execution_count": 45,
   "id": "6b665797",
   "metadata": {
    "execution": {
     "iopub.execute_input": "2024-05-02T23:59:39.482009Z",
     "iopub.status.busy": "2024-05-02T23:59:39.481573Z",
     "iopub.status.idle": "2024-05-02T23:59:39.492789Z",
     "shell.execute_reply": "2024-05-02T23:59:39.491496Z",
     "shell.execute_reply.started": "2024-05-02T23:59:39.481976Z"
    }
   },
   "outputs": [],
   "source": [
    "class Eng_Fr_Translator(nn.Module):\n",
    "    def __init__(self, src_vocab_size, tgt_vocab_size, max_len, d_model, nhead, num_encoder_layers, num_decoder_layers, dim_feedforward, dropout):\n",
    "        super(Eng_Fr_Translator, self).__init__()\n",
    "        self.src_embedding = nn.Embedding(src_vocab_size, d_model)\n",
    "        self.tgt_embedding = nn.Embedding(tgt_vocab_size, d_model)\n",
    "        self.transformer = nn.Transformer(d_model=d_model, nhead=nhead, num_encoder_layers=num_encoder_layers,\n",
    "                                           num_decoder_layers=num_decoder_layers, dim_feedforward=dim_feedforward, dropout=dropout)\n",
    "        self.fc = nn.Linear(d_model, tgt_vocab_size)\n",
    "        self.max_len = max_len\n",
    "\n",
    "    def forward(self, src, tgt):\n",
    "        src = self.src_embedding(src)\n",
    "        tgt = self.tgt_embedding(tgt)\n",
    "        src = src.permute(1, 0, 2)\n",
    "        tgt = tgt.permute(1, 0, 2)\n",
    "        tgt_mask = self.transformer.generate_square_subsequent_mask(tgt.size(0)).to(tgt.device)\n",
    "        output = self.transformer(src, tgt, tgt_mask=tgt_mask)\n",
    "        output = self.fc(output)\n",
    "        return output.permute(1, 0, 2)"
   ]
  },
  {
   "cell_type": "code",
   "execution_count": 46,
   "id": "82628fe9",
   "metadata": {
    "colab": {
     "base_uri": "https://localhost:8080/"
    },
    "execution": {
     "iopub.execute_input": "2024-05-02T23:59:39.916800Z",
     "iopub.status.busy": "2024-05-02T23:59:39.916362Z",
     "iopub.status.idle": "2024-05-02T23:59:40.600367Z",
     "shell.execute_reply": "2024-05-02T23:59:40.599048Z",
     "shell.execute_reply.started": "2024-05-02T23:59:39.916760Z"
    },
    "id": "96764af8",
    "outputId": "6f5c45cc-50b7-4a99-b003-c8137af2e526"
   },
   "outputs": [],
   "source": [
    "src_vocab_size = len(eng_vocab) + 1\n",
    "tgt_vocab_size = len(fr_vocab) + 1\n",
    "max_len = max_len_sentence\n",
    "d_model = 128\n",
    "nhead = 4\n",
    "num_encoder_layers = 1\n",
    "num_decoder_layers = 1\n",
    "dim_feedforward = 2048\n",
    "dropout = 0.5\n",
    "lr = 0.001\n",
    "device = torch.device(\"cuda\" if torch.cuda.is_available() else \"cpu\")\n",
    "\n",
    "model1 = Eng_Fr_Translator(src_vocab_size, tgt_vocab_size, max_len, d_model, nhead, num_encoder_layers, num_decoder_layers, dim_feedforward, dropout).to(device)\n",
    "optimizer = optim.AdamW(model1.parameters(), lr=lr, weight_decay = 0.001)\n",
    "criterion = nn.CrossEntropyLoss(ignore_index=0)"
   ]
  },
  {
   "cell_type": "code",
   "execution_count": 47,
   "id": "047c2fd5",
   "metadata": {
    "execution": {
     "iopub.execute_input": "2024-05-02T23:59:40.603100Z",
     "iopub.status.busy": "2024-05-02T23:59:40.602440Z",
     "iopub.status.idle": "2024-05-03T00:42:37.874145Z",
     "shell.execute_reply": "2024-05-03T00:42:37.873043Z",
     "shell.execute_reply.started": "2024-05-02T23:59:40.603060Z"
    },
    "id": "76bbe1cf"
   },
   "outputs": [
    {
     "name": "stdout",
     "output_type": "stream",
     "text": [
      "Epoch [1], Train Loss: 5.2687, Val Loss: 4.6376\n",
      "Epoch [2], Train Loss: 4.1258, Val Loss: 4.1677\n",
      "Epoch [3], Train Loss: 3.6112, Val Loss: 3.9324\n",
      "Epoch [4], Train Loss: 3.2846, Val Loss: 3.7802\n",
      "Epoch [5], Train Loss: 3.0572, Val Loss: 3.7150\n",
      "Epoch [6], Train Loss: 2.8892, Val Loss: 3.6683\n",
      "Epoch [7], Train Loss: 2.7587, Val Loss: 3.5836\n",
      "Epoch [8], Train Loss: 2.6508, Val Loss: 3.5847\n",
      "Epoch [9], Train Loss: 2.5675, Val Loss: 3.5584\n",
      "Epoch [10], Train Loss: 2.4956, Val Loss: 3.5961\n",
      "Epoch [11], Train Loss: 2.4365, Val Loss: 3.5374\n",
      "Epoch [12], Train Loss: 2.3806, Val Loss: 3.5647\n",
      "Epoch [13], Train Loss: 2.3364, Val Loss: 3.5807\n",
      "Epoch [14], Train Loss: 2.2934, Val Loss: 3.5745\n",
      "Epoch [15], Train Loss: 2.2579, Val Loss: 3.6127\n",
      "Epoch [16], Train Loss: 2.2276, Val Loss: 3.5913\n",
      "Validation loss has not improved for 5 epochs. Early stopping...\n"
     ]
    }
   ],
   "source": [
    "num_epochs = 30\n",
    "\n",
    "model1_train_losses = []\n",
    "model1_val_losses = []\n",
    "\n",
    "best_val_loss = float('inf')\n",
    "patience = 5  \n",
    "counter = 0  \n",
    "\n",
    "for epoch in range(num_epochs):\n",
    "    model1.train()\n",
    "    model1_total_train_loss = 0\n",
    "    for eng, fr in train_loader:\n",
    "        eng, fr = eng.to(device), fr.to(device)\n",
    "        optimizer.zero_grad()\n",
    "        output = model1(eng, fr[:, :-1])\n",
    "        output = output.reshape(-1, output.shape[-1])\n",
    "        fr = fr[:, 1:].reshape(-1)\n",
    "        loss = criterion(output, fr)\n",
    "        loss.backward()\n",
    "        torch.nn.utils.clip_grad_norm_(model1.parameters(), 1.0)\n",
    "        optimizer.step()\n",
    "        model1_total_train_loss += loss.item()\n",
    "    model1_average_train_loss = model1_total_train_loss / len(train_loader)\n",
    "    model1_train_losses.append(model1_average_train_loss)\n",
    "\n",
    "    model1.eval()\n",
    "    model1_total_val_loss = 0\n",
    "    with torch.no_grad():\n",
    "        for eng, fr in val_loader:\n",
    "            eng, fr = eng.to(device), fr.to(device)\n",
    "            output = model1(eng, fr[:, :-1])\n",
    "            output = output.reshape(-1, output.shape[-1])\n",
    "            fr = fr[:, 1:].reshape(-1)\n",
    "            loss = criterion(output, fr)\n",
    "            model1_total_val_loss += loss.item()\n",
    "    model1_average_val_loss = model1_total_val_loss / len(val_loader)\n",
    "    model1_val_losses.append(model1_average_val_loss)\n",
    "    print(f'Epoch [{epoch+1}], Train Loss: {model1_average_train_loss:.4f}, Val Loss: {model1_average_val_loss:.4f}')\n",
    "    \n",
    "    if model1_average_val_loss < best_val_loss:\n",
    "        best_val_loss = model1_average_val_loss\n",
    "        counter = 0\n",
    "    else:\n",
    "        counter += 1\n",
    "        if counter >= patience:\n",
    "            print(f'Validation loss has not improved for {patience} epochs. Early stopping...')\n",
    "            break\n"
   ]
  },
  {
   "cell_type": "code",
   "execution_count": 50,
   "id": "f0e53bee",
   "metadata": {
    "execution": {
     "iopub.execute_input": "2024-05-03T00:58:48.202617Z",
     "iopub.status.busy": "2024-05-03T00:58:48.201840Z",
     "iopub.status.idle": "2024-05-03T00:58:55.126077Z",
     "shell.execute_reply": "2024-05-03T00:58:55.124915Z",
     "shell.execute_reply.started": "2024-05-03T00:58:48.202581Z"
    },
    "id": "52f1a224"
   },
   "outputs": [
    {
     "name": "stdout",
     "output_type": "stream",
     "text": [
      "Test Loss: 3.6057\n"
     ]
    }
   ],
   "source": [
    "model1.eval()\n",
    "model1_total_test_loss = 0\n",
    "with torch.no_grad():\n",
    "    for eng, fr in test_loader:\n",
    "        eng, fr = eng.to(device), fr.to(device)\n",
    "        output = model1(eng, fr[:, :-1])\n",
    "        output = output.reshape(-1, output.shape[-1])\n",
    "        fr = fr[:, 1:].reshape(-1)\n",
    "        loss = criterion(output, fr)\n",
    "        model1_total_test_loss += loss.item()\n",
    "        \n",
    "model1_average_test_loss = model1_total_test_loss / len(test_loader)\n",
    "print(f'Test Loss: {model1_average_test_loss:.4f}')"
   ]
  },
  {
   "cell_type": "code",
   "execution_count": 51,
   "id": "1176a1f1",
   "metadata": {
    "execution": {
     "iopub.execute_input": "2024-05-03T00:58:58.242984Z",
     "iopub.status.busy": "2024-05-03T00:58:58.242579Z",
     "iopub.status.idle": "2024-05-03T00:58:58.523910Z",
     "shell.execute_reply": "2024-05-03T00:58:58.522911Z",
     "shell.execute_reply.started": "2024-05-03T00:58:58.242954Z"
    },
    "id": "dcfb0063",
    "scrolled": true
   },
   "outputs": [
    {
     "data": {
      "image/png": "[encoded data removed]",
      "text/plain": [
       "<Figure size 640x480 with 1 Axes>"
      ]
     },
     "metadata": {},
     "output_type": "display_data"
    }
   ],
   "source": [
    "plt.plot(model1_train_losses, label='Training Loss')\n",
    "plt.plot(model1_val_losses, label='Validation Loss')\n",
    "plt.xlabel('Epoch')\n",
    "plt.ylabel('Loss')\n",
    "plt.title('Training and Validation Loss')\n",
    "plt.legend()\n",
    "plt.show()\n"
   ]
  },
  {
   "cell_type": "markdown",
   "id": "efb14fd2",
   "metadata": {},
   "source": [
    "## Model 2 With n_head = 4, dropout = 0.5"
   ]
  },
  {
   "cell_type": "code",
   "execution_count": 36,
   "id": "ff495321",
   "metadata": {
    "execution": {
     "iopub.execute_input": "2024-05-02T22:21:59.170954Z",
     "iopub.status.busy": "2024-05-02T22:21:59.170171Z",
     "iopub.status.idle": "2024-05-02T22:21:59.180929Z",
     "shell.execute_reply": "2024-05-02T22:21:59.179660Z",
     "shell.execute_reply.started": "2024-05-02T22:21:59.170918Z"
    }
   },
   "outputs": [],
   "source": [
    "class Eng_Fr_Translator(nn.Module):\n",
    "    def __init__(self, src_vocab_size, tgt_vocab_size, max_len, d_model, nhead, num_encoder_layers, num_decoder_layers, dim_feedforward, dropout):\n",
    "        super(Eng_Fr_Translator, self).__init__()\n",
    "        self.src_embedding = nn.Embedding(src_vocab_size, d_model)\n",
    "        self.tgt_embedding = nn.Embedding(tgt_vocab_size, d_model)\n",
    "        self.transformer = nn.Transformer(d_model=d_model, nhead=nhead, num_encoder_layers=num_encoder_layers,\n",
    "                                           num_decoder_layers=num_decoder_layers, dim_feedforward=dim_feedforward, dropout=dropout)\n",
    "        self.fc = nn.Linear(d_model, tgt_vocab_size)\n",
    "        self.max_len = max_len\n",
    "\n",
    "    def forward(self, src, tgt):\n",
    "        src = self.src_embedding(src)\n",
    "        tgt = self.tgt_embedding(tgt)\n",
    "        src = src.permute(1, 0, 2)\n",
    "        tgt = tgt.permute(1, 0, 2)\n",
    "        tgt_mask = self.transformer.generate_square_subsequent_mask(tgt.size(0)).to(tgt.device)\n",
    "        output = self.transformer(src, tgt, tgt_mask=tgt_mask)\n",
    "        output = self.fc(output)\n",
    "        return output.permute(1, 0, 2)"
   ]
  },
  {
   "cell_type": "code",
   "execution_count": 38,
   "id": "7d3e9091",
   "metadata": {
    "execution": {
     "iopub.execute_input": "2024-05-02T22:22:16.531828Z",
     "iopub.status.busy": "2024-05-02T22:22:16.531440Z",
     "iopub.status.idle": "2024-05-02T22:22:16.677608Z",
     "shell.execute_reply": "2024-05-02T22:22:16.676732Z",
     "shell.execute_reply.started": "2024-05-02T22:22:16.531799Z"
    }
   },
   "outputs": [],
   "source": [
    "src_vocab_size = len(eng_vocab) + 1\n",
    "tgt_vocab_size = len(fr_vocab) + 1\n",
    "max_len = max_len_sentence\n",
    "d_model = 128\n",
    "nhead = 4\n",
    "num_encoder_layers = 1\n",
    "num_decoder_layers = 1\n",
    "dim_feedforward = 2048\n",
    "dropout = 0.5\n",
    "lr = 0.001\n",
    "device = torch.device(\"cuda\" if torch.cuda.is_available() else \"cpu\")\n",
    "\n",
    "model2 = Eng_Fr_Translator(src_vocab_size, tgt_vocab_size, max_len, d_model, nhead, num_encoder_layers, num_decoder_layers, dim_feedforward, dropout).to(device)\n",
    "optimizer = optim.AdamW(model2.parameters(), lr=lr)\n",
    "criterion = nn.CrossEntropyLoss(ignore_index=0)"
   ]
  },
  {
   "cell_type": "code",
   "execution_count": 39,
   "id": "ba6b7221",
   "metadata": {
    "execution": {
     "iopub.execute_input": "2024-05-02T22:22:16.903296Z",
     "iopub.status.busy": "2024-05-02T22:22:16.902523Z",
     "iopub.status.idle": "2024-05-02T23:42:37.078460Z",
     "shell.execute_reply": "2024-05-02T23:42:37.077325Z",
     "shell.execute_reply.started": "2024-05-02T22:22:16.903261Z"
    }
   },
   "outputs": [
    {
     "name": "stdout",
     "output_type": "stream",
     "text": [
      "Epoch [1], Train Loss: 5.2343, Val Loss: 4.5412\n",
      "Epoch [2], Train Loss: 4.0481, Val Loss: 4.0911\n",
      "Epoch [3], Train Loss: 3.5176, Val Loss: 3.8257\n",
      "Epoch [4], Train Loss: 3.1712, Val Loss: 3.6627\n",
      "Epoch [5], Train Loss: 2.9349, Val Loss: 3.5756\n",
      "Epoch [6], Train Loss: 2.7579, Val Loss: 3.5188\n",
      "Epoch [7], Train Loss: 2.6220, Val Loss: 3.4252\n",
      "Epoch [8], Train Loss: 2.5174, Val Loss: 3.3790\n",
      "Epoch [9], Train Loss: 2.4314, Val Loss: 3.3824\n",
      "Epoch [10], Train Loss: 2.3574, Val Loss: 3.3172\n",
      "Epoch [11], Train Loss: 2.2946, Val Loss: 3.3297\n",
      "Epoch [12], Train Loss: 2.2423, Val Loss: 3.3093\n",
      "Epoch [13], Train Loss: 2.1982, Val Loss: 3.2847\n",
      "Epoch [14], Train Loss: 2.1591, Val Loss: 3.2601\n",
      "Epoch [15], Train Loss: 2.1214, Val Loss: 3.2899\n",
      "Epoch [16], Train Loss: 2.0907, Val Loss: 3.2493\n",
      "Epoch [17], Train Loss: 2.0614, Val Loss: 3.1889\n",
      "Epoch [18], Train Loss: 2.0376, Val Loss: 3.2626\n",
      "Epoch [19], Train Loss: 2.0160, Val Loss: 3.1755\n",
      "Epoch [20], Train Loss: 1.9918, Val Loss: 3.1866\n",
      "Epoch [21], Train Loss: 1.9729, Val Loss: 3.1762\n",
      "Epoch [22], Train Loss: 1.9572, Val Loss: 3.1973\n",
      "Epoch [23], Train Loss: 1.9407, Val Loss: 3.1486\n",
      "Epoch [24], Train Loss: 1.9268, Val Loss: 3.1662\n",
      "Epoch [25], Train Loss: 1.9128, Val Loss: 3.1511\n",
      "Epoch [26], Train Loss: 1.9001, Val Loss: 3.1934\n",
      "Epoch [27], Train Loss: 1.8880, Val Loss: 3.1452\n",
      "Epoch [28], Train Loss: 1.8772, Val Loss: 3.1218\n",
      "Epoch [29], Train Loss: 1.8639, Val Loss: 3.0682\n",
      "Epoch [30], Train Loss: 1.8557, Val Loss: 3.1170\n"
     ]
    }
   ],
   "source": [
    "num_epochs = 30\n",
    "\n",
    "model2_train_losses = []\n",
    "model2_val_losses = []\n",
    "\n",
    "best_val_loss = float('inf')\n",
    "patience = 5  \n",
    "counter = 0  \n",
    "\n",
    "for epoch in range(num_epochs):\n",
    "    model2.train()\n",
    "    model2_total_train_loss = 0\n",
    "    for eng, fr in train_loader:\n",
    "        eng, fr = eng.to(device), fr.to(device)\n",
    "        optimizer.zero_grad()\n",
    "        output = model2(eng, fr[:, :-1])\n",
    "        output = output.reshape(-1, output.shape[-1])\n",
    "        fr = fr[:, 1:].reshape(-1)\n",
    "        loss = criterion(output, fr)\n",
    "        loss.backward()\n",
    "        torch.nn.utils.clip_grad_norm_(model2.parameters(), 1.0)\n",
    "        optimizer.step()\n",
    "        model2_total_train_loss += loss.item()\n",
    "    model2_average_train_loss = model2_total_train_loss / len(train_loader)\n",
    "    model2_train_losses.append(model2_average_train_loss)\n",
    "\n",
    "    model2.eval()\n",
    "    model2_total_val_loss = 0\n",
    "    with torch.no_grad():\n",
    "        for eng, fr in val_loader:\n",
    "            eng, fr = eng.to(device), fr.to(device)\n",
    "            output = model2(eng, fr[:, :-1])\n",
    "            output = output.reshape(-1, output.shape[-1])\n",
    "            fr = fr[:, 1:].reshape(-1)\n",
    "            loss = criterion(output, fr)\n",
    "            model2_total_val_loss += loss.item()\n",
    "    model2_average_val_loss = model2_total_val_loss / len(val_loader)\n",
    "    model2_val_losses.append(model2_average_val_loss)\n",
    "    print(f'Epoch [{epoch+1}], Train Loss: {model2_average_train_loss:.4f}, Val Loss: {model2_average_val_loss:.4f}')\n",
    "    \n",
    "    if model2_average_val_loss < best_val_loss:\n",
    "        best_val_loss = model2_average_val_loss\n",
    "        counter = 0\n",
    "    else:\n",
    "        counter += 1\n",
    "        if counter >= patience:\n",
    "            print(f'Validation loss has not improved for {patience} epochs. Early stopping...')\n",
    "            break\n"
   ]
  },
  {
   "cell_type": "code",
   "execution_count": 40,
   "id": "6d63935e",
   "metadata": {
    "execution": {
     "iopub.execute_input": "2024-05-02T23:42:37.081166Z",
     "iopub.status.busy": "2024-05-02T23:42:37.080744Z",
     "iopub.status.idle": "2024-05-02T23:42:43.922506Z",
     "shell.execute_reply": "2024-05-02T23:42:43.921472Z",
     "shell.execute_reply.started": "2024-05-02T23:42:37.081127Z"
    }
   },
   "outputs": [
    {
     "name": "stdout",
     "output_type": "stream",
     "text": [
      "Test Loss: 3.1391\n"
     ]
    }
   ],
   "source": [
    "model2.eval()\n",
    "model2_total_test_loss = 0\n",
    "with torch.no_grad():\n",
    "    for eng, fr in test_loader:\n",
    "        eng, fr = eng.to(device), fr.to(device)\n",
    "        output = model2(eng, fr[:, :-1])\n",
    "        output = output.reshape(-1, output.shape[-1])\n",
    "        fr = fr[:, 1:].reshape(-1)\n",
    "        loss = criterion(output, fr)\n",
    "        model2_total_test_loss += loss.item()\n",
    "        \n",
    "model2_average_test_loss = model2_total_test_loss / len(test_loader)\n",
    "print(f'Test Loss: {model2_average_test_loss:.4f}')"
   ]
  },
  {
   "cell_type": "code",
   "execution_count": 41,
   "id": "3291f6ac",
   "metadata": {
    "execution": {
     "iopub.execute_input": "2024-05-02T23:42:43.924575Z",
     "iopub.status.busy": "2024-05-02T23:42:43.923960Z",
     "iopub.status.idle": "2024-05-02T23:42:44.207011Z",
     "shell.execute_reply": "2024-05-02T23:42:44.205943Z",
     "shell.execute_reply.started": "2024-05-02T23:42:43.924528Z"
    }
   },
   "outputs": [
    {
     "data": {
      "image/png": "[encoded data removed]",
      "text/plain": [
       "<Figure size 640x480 with 1 Axes>"
      ]
     },
     "metadata": {},
     "output_type": "display_data"
    }
   ],
   "source": [
    "plt.plot(model2_train_losses, label='Training Loss')\n",
    "plt.plot(model2_val_losses, label='Validation Loss')\n",
    "plt.xlabel('Epoch')\n",
    "plt.ylabel('Loss')\n",
    "plt.title('Training and Validation Loss')\n",
    "plt.legend()\n",
    "plt.show()\n"
   ]
  },
  {
   "cell_type": "markdown",
   "id": "1aff95f7",
   "metadata": {},
   "source": [
    "## Model 3 with dropout = 0.1"
   ]
  },
  {
   "cell_type": "code",
   "execution_count": 28,
   "id": "b236ee28",
   "metadata": {
    "execution": {
     "iopub.execute_input": "2024-05-02T21:05:41.099396Z",
     "iopub.status.busy": "2024-05-02T21:05:41.098930Z",
     "iopub.status.idle": "2024-05-02T21:05:41.109847Z",
     "shell.execute_reply": "2024-05-02T21:05:41.108612Z",
     "shell.execute_reply.started": "2024-05-02T21:05:41.099358Z"
    }
   },
   "outputs": [],
   "source": [
    "class Eng_Fr_Translator(nn.Module):\n",
    "    def __init__(self, src_vocab_size, tgt_vocab_size, max_len, d_model, nhead, num_encoder_layers, num_decoder_layers, dim_feedforward, dropout):\n",
    "        super(Eng_Fr_Translator, self).__init__()\n",
    "        self.src_embedding = nn.Embedding(src_vocab_size, d_model)\n",
    "        self.tgt_embedding = nn.Embedding(tgt_vocab_size, d_model)\n",
    "        self.transformer = nn.Transformer(d_model=d_model, nhead=nhead, num_encoder_layers=num_encoder_layers,\n",
    "                                           num_decoder_layers=num_decoder_layers, dim_feedforward=dim_feedforward, dropout=dropout)\n",
    "        self.fc = nn.Linear(d_model, tgt_vocab_size)\n",
    "        self.max_len = max_len\n",
    "\n",
    "    def forward(self, src, tgt):\n",
    "        src = self.src_embedding(src)\n",
    "        tgt = self.tgt_embedding(tgt)\n",
    "        src = src.permute(1, 0, 2)\n",
    "        tgt = tgt.permute(1, 0, 2)\n",
    "        tgt_mask = self.transformer.generate_square_subsequent_mask(tgt.size(0)).to(tgt.device)\n",
    "        output = self.transformer(src, tgt, tgt_mask=tgt_mask)\n",
    "        output = self.fc(output)\n",
    "        return output.permute(1, 0, 2)"
   ]
  },
  {
   "cell_type": "code",
   "execution_count": 30,
   "id": "3d60c980",
   "metadata": {
    "execution": {
     "iopub.execute_input": "2024-05-02T21:13:38.658780Z",
     "iopub.status.busy": "2024-05-02T21:13:38.658342Z",
     "iopub.status.idle": "2024-05-02T21:13:39.525769Z",
     "shell.execute_reply": "2024-05-02T21:13:39.524640Z",
     "shell.execute_reply.started": "2024-05-02T21:13:38.658747Z"
    }
   },
   "outputs": [],
   "source": [
    "src_vocab_size = len(eng_vocab) + 1\n",
    "tgt_vocab_size = len(fr_vocab) + 1\n",
    "max_len = max_len_sentence\n",
    "d_model = 128\n",
    "nhead = 8\n",
    "num_encoder_layers = 1\n",
    "num_decoder_layers = 1\n",
    "dim_feedforward = 2048\n",
    "dropout = 0.1\n",
    "lr = 0.001\n",
    "device = torch.device(\"cuda\" if torch.cuda.is_available() else \"cpu\")\n",
    "\n",
    "model3 = Eng_Fr_Translator(src_vocab_size, tgt_vocab_size, max_len, d_model, nhead, num_encoder_layers, num_decoder_layers, dim_feedforward, dropout).to(device)\n",
    "optimizer = optim.AdamW(model3.parameters(), lr=lr)\n",
    "criterion = nn.CrossEntropyLoss(ignore_index=0)"
   ]
  },
  {
   "cell_type": "code",
   "execution_count": 31,
   "id": "417ff7be",
   "metadata": {
    "execution": {
     "iopub.execute_input": "2024-05-02T21:13:39.528909Z",
     "iopub.status.busy": "2024-05-02T21:13:39.527887Z",
     "iopub.status.idle": "2024-05-02T22:18:34.839576Z",
     "shell.execute_reply": "2024-05-02T22:18:34.838485Z",
     "shell.execute_reply.started": "2024-05-02T21:13:39.528870Z"
    }
   },
   "outputs": [
    {
     "name": "stdout",
     "output_type": "stream",
     "text": [
      "Epoch [1], Train Loss: 4.3875, Val Loss: 3.2910\n",
      "Epoch [2], Train Loss: 2.9065, Val Loss: 2.7237\n",
      "Epoch [3], Train Loss: 2.3615, Val Loss: 2.4956\n",
      "Epoch [4], Train Loss: 2.0469, Val Loss: 2.3619\n",
      "Epoch [5], Train Loss: 1.8360, Val Loss: 2.2790\n",
      "Epoch [6], Train Loss: 1.6842, Val Loss: 2.2387\n",
      "Epoch [7], Train Loss: 1.5654, Val Loss: 2.1946\n",
      "Epoch [8], Train Loss: 1.4701, Val Loss: 2.1637\n",
      "Epoch [9], Train Loss: 1.3934, Val Loss: 2.1384\n",
      "Epoch [10], Train Loss: 1.3304, Val Loss: 2.1238\n",
      "Epoch [11], Train Loss: 1.2735, Val Loss: 2.1126\n",
      "Epoch [12], Train Loss: 1.2241, Val Loss: 2.1030\n",
      "Epoch [13], Train Loss: 1.1808, Val Loss: 2.1008\n",
      "Epoch [14], Train Loss: 1.1398, Val Loss: 2.0874\n",
      "Epoch [15], Train Loss: 1.1056, Val Loss: 2.0772\n",
      "Epoch [16], Train Loss: 1.0740, Val Loss: 2.0927\n",
      "Epoch [17], Train Loss: 1.0453, Val Loss: 2.0807\n",
      "Epoch [18], Train Loss: 1.0204, Val Loss: 2.0761\n",
      "Epoch [19], Train Loss: 0.9950, Val Loss: 2.0746\n",
      "Epoch [20], Train Loss: 0.9717, Val Loss: 2.0869\n",
      "Epoch [21], Train Loss: 0.9505, Val Loss: 2.0933\n",
      "Epoch [22], Train Loss: 0.9317, Val Loss: 2.0756\n",
      "Epoch [23], Train Loss: 0.9138, Val Loss: 2.0868\n",
      "Epoch [24], Train Loss: 0.8989, Val Loss: 2.0955\n",
      "Validation loss has not improved for 5 epochs. Early stopping...\n"
     ]
    }
   ],
   "source": [
    "num_epochs = 30\n",
    "\n",
    "model3_train_losses = []\n",
    "model3_val_losses = []\n",
    "\n",
    "best_val_loss = float('inf')\n",
    "patience = 5  \n",
    "counter = 0  \n",
    "\n",
    "for epoch in range(num_epochs):\n",
    "    model3.train()\n",
    "    model3_total_train_loss = 0\n",
    "    for eng, fr in train_loader:\n",
    "        eng, fr = eng.to(device), fr.to(device)\n",
    "        optimizer.zero_grad()\n",
    "        output = model3(eng, fr[:, :-1])\n",
    "        output = output.reshape(-1, output.shape[-1])\n",
    "        fr = fr[:, 1:].reshape(-1)\n",
    "        loss = criterion(output, fr)\n",
    "        loss.backward()\n",
    "        torch.nn.utils.clip_grad_norm_(model3.parameters(), 1.0)\n",
    "        optimizer.step()\n",
    "        model3_total_train_loss += loss.item()\n",
    "    model3_average_train_loss = model3_total_train_loss / len(train_loader)\n",
    "    model3_train_losses.append(model3_average_train_loss)\n",
    "\n",
    "    model3.eval()\n",
    "    model3_total_val_loss = 0\n",
    "    with torch.no_grad():\n",
    "        for eng, fr in val_loader:\n",
    "            eng, fr = eng.to(device), fr.to(device)\n",
    "            output = model3(eng, fr[:, :-1])\n",
    "            output = output.reshape(-1, output.shape[-1])\n",
    "            fr = fr[:, 1:].reshape(-1)\n",
    "            loss = criterion(output, fr)\n",
    "            model3_total_val_loss += loss.item()\n",
    "    model3_average_val_loss = model3_total_val_loss / len(val_loader)\n",
    "    model3_val_losses.append(model3_average_val_loss)\n",
    "    print(f'Epoch [{epoch+1}], Train Loss: {model3_average_train_loss:.4f}, Val Loss: {model3_average_val_loss:.4f}')\n",
    "    \n",
    "    if model3_average_val_loss < best_val_loss:\n",
    "        best_val_loss = model3_average_val_loss\n",
    "        counter = 0\n",
    "    else:\n",
    "        counter += 1\n",
    "        if counter >= patience:\n",
    "            print(f'Validation loss has not improved for {patience} epochs. Early stopping...')\n",
    "            break"
   ]
  },
  {
   "cell_type": "code",
   "execution_count": 33,
   "id": "ed57bf3e",
   "metadata": {
    "execution": {
     "iopub.execute_input": "2024-05-02T22:20:36.062482Z",
     "iopub.status.busy": "2024-05-02T22:20:36.061783Z",
     "iopub.status.idle": "2024-05-02T22:20:42.868445Z",
     "shell.execute_reply": "2024-05-02T22:20:42.867368Z",
     "shell.execute_reply.started": "2024-05-02T22:20:36.062450Z"
    }
   },
   "outputs": [
    {
     "name": "stdout",
     "output_type": "stream",
     "text": [
      "Test Loss: 2.1115\n"
     ]
    }
   ],
   "source": [
    "model3.eval()\n",
    "model3_total_test_loss = 0\n",
    "with torch.no_grad():\n",
    "    for eng, fr in test_loader:\n",
    "        eng, fr = eng.to(device), fr.to(device)\n",
    "        output = model3(eng, fr[:, :-1])\n",
    "        output = output.reshape(-1, output.shape[-1])\n",
    "        fr = fr[:, 1:].reshape(-1)\n",
    "        loss = criterion(output, fr)\n",
    "        model3_total_test_loss += loss.item()\n",
    "        \n",
    "model3_average_test_loss = model3_total_test_loss / len(test_loader)\n",
    "print(f'Test Loss: {model3_average_test_loss:.4f}')"
   ]
  },
  {
   "cell_type": "code",
   "execution_count": 34,
   "id": "9a891d12",
   "metadata": {
    "execution": {
     "iopub.execute_input": "2024-05-02T22:20:45.482280Z",
     "iopub.status.busy": "2024-05-02T22:20:45.481915Z",
     "iopub.status.idle": "2024-05-02T22:20:45.789070Z",
     "shell.execute_reply": "2024-05-02T22:20:45.787919Z",
     "shell.execute_reply.started": "2024-05-02T22:20:45.482253Z"
    }
   },
   "outputs": [
    {
     "data": {
      "image/png": "[encoded data removed]",
      "text/plain": [
       "<Figure size 640x480 with 1 Axes>"
      ]
     },
     "metadata": {},
     "output_type": "display_data"
    }
   ],
   "source": [
    "plt.plot(model3_train_losses, label='Training Loss')\n",
    "plt.plot(model3_val_losses, label='Validation Loss')\n",
    "plt.xlabel('Epoch')\n",
    "plt.ylabel('Loss')\n",
    "plt.title('Training and Validation Loss')\n",
    "plt.legend()\n",
    "plt.show()\n"
   ]
  },
  {
   "cell_type": "code",
   "execution_count": null,
   "id": "d661ee8c",
   "metadata": {},
   "outputs": [],
   "source": []
  }
 ],
 "metadata": {
  "accelerator": "GPU",
  "colab": {
   "gpuType": "T4",
   "provenance": []
  },
  "kaggle": {
   "accelerator": "nvidiaTeslaT4",
   "dataSources": [
    {
     "datasetId": 4925907,
     "sourceId": 8291976,
     "sourceType": "datasetVersion"
    },
    {
     "datasetId": 592212,
     "sourceId": 1067156,
     "sourceType": "datasetVersion"
    }
   ],
   "dockerImageVersionId": 30699,
   "isGpuEnabled": true,
   "isInternetEnabled": true,
   "language": "python",
   "sourceType": "notebook"
  },
  "kernelspec": {
   "display_name": "Python 3 (ipykernel)",
   "language": "python",
   "name": "python3"
  },
  "language_info": {
   "codemirror_mode": {
    "name": "ipython",
    "version": 3
   },
   "file_extension": ".py",
   "mimetype": "text/x-python",
   "name": "python",
   "nbconvert_exporter": "python",
   "pygments_lexer": "ipython3",
   "version": "3.11.4"
  }
 },
 "nbformat": 4,
 "nbformat_minor": 5
}
